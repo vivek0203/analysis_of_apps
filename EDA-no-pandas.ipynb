{
 "cells": [
  {
   "cell_type": "markdown",
   "metadata": {},
   "source": [
    "# Analyzing profitable App profiles on Google Play Store and iOS App Store"
   ]
  },
  {
   "cell_type": "markdown",
   "metadata": {},
   "source": [
    "We are trying to analyze apps data from Google Play Store and iOS App Store to help developers\n",
    "understand profitable app profiles.\n",
    "For a company building only free apps, the main source of revenue is customers. More the amount\n",
    "of customers enagaging with the apps and ads, more the revenue."
   ]
  },
  {
   "cell_type": "markdown",
   "metadata": {},
   "source": [
    "### Exploring the datasets\n",
    "As of September 2018, there were approximately 2 million iOS apps available on the App Store, and 2.1 million Android apps on Google Play.\n",
    "\n",
    "Collecting data for over four million apps requires a significant amount of time and money, so we'll try to analyze a sample of data instead. To avoid spending resources with collecting new data ourselves, we should first try to see whether we can find any relevant existing data at no cost. Luckily, these are two data sets that seem suitable for our purpose:\n",
    "\n",
    "A data set containing data about approximately ten thousand Android apps from Google Play. Available directly from [this link.](https://dq-content.s3.amazonaws.com/350/googleplaystore.csv)\n",
    "A data set containing data about approximately seven thousand iOS apps from the App Store. Available directly from [this link.](https://dq-content.s3.amazonaws.com/350/AppleStore.csv)"
   ]
  },
  {
   "cell_type": "code",
   "execution_count": 10,
   "metadata": {},
   "outputs": [],
   "source": [
    "from csv import reader"
   ]
  },
  {
   "cell_type": "code",
   "execution_count": 11,
   "metadata": {},
   "outputs": [],
   "source": [
    "# ios AppStore\n",
    "ios_opened_file = open('AppleStore.csv')\n",
    "ios_read_file = reader(ios_opened_file)\n",
    "ios = list(ios_read_file)\n",
    "ios_header = ios[0]\n",
    "ios = ios[1:]\n",
    "\n",
    "# Google PlayStore\n",
    "android_opened_file = open('googleplaystore.csv')\n",
    "android_read_file = reader(android_opened_file)\n",
    "android = list(android_read_file)\n",
    "android_header = android[0]\n",
    "android = android[1:]"
   ]
  },
  {
   "cell_type": "code",
   "execution_count": 14,
   "metadata": {},
   "outputs": [],
   "source": [
    "# helper function to print rows in a readable way\n",
    "# dataset is expected to a list of lists\n",
    "def explore_data(dataset, start, end, rows_and_columns=False):\n",
    "    dataset_slice = dataset[start:end]\n",
    "    for row in dataset_slice:\n",
    "        print(row)\n",
    "        print('\\n')\n",
    "        \n",
    "    if rows_and_columns:\n",
    "        print('Number of rows: ', len(dataset))\n",
    "        print('Number of columns: ', len(dataset[0]))"
   ]
  },
  {
   "cell_type": "code",
   "execution_count": 25,
   "metadata": {},
   "outputs": [
    {
     "name": "stdout",
     "output_type": "stream",
     "text": [
      "['App', 'Category', 'Rating', 'Reviews', 'Size', 'Installs', 'Type', 'Price', 'Content Rating', 'Genres', 'Last Updated', 'Current Ver', 'Android Ver']\n",
      "\n",
      "\n",
      "['Natural recipes for your beauty', 'BEAUTY', '4.7', '1150', '9.8M', '100,000+', 'Free', '0', 'Everyone', 'Beauty', 'May 15, 2018', '4.0', '4.1 and up']\n",
      "\n",
      "\n",
      "['BestCam Selfie-selfie, beauty camera, photo editor', 'BEAUTY', '3.9', '1739', '21M', '500,000+', 'Free', '0', 'Everyone', 'Beauty', 'July 12, 2018', '1.0.6', '4.0.3 and up']\n",
      "\n",
      "\n",
      "['Mirror - Zoom & Exposure -', 'BEAUTY', '3.9', '32090', 'Varies with device', '1,000,000+', 'Free', '0', 'Everyone', 'Beauty', 'October 24, 2016', 'Varies with device', 'Varies with device']\n",
      "\n",
      "\n",
      "['Beauty Selfie Camera', 'BEAUTY', '4.2', '2225', '52M', '500,000+', 'Free', '0', 'Everyone', 'Beauty', 'February 28, 2018', '1.6', '4.1 and up']\n",
      "\n",
      "\n",
      "['Hairstyles step by step', 'BEAUTY', '4.6', '4369', '14M', '100,000+', 'Free', '0', 'Everyone', 'Beauty', 'July 25, 2018', '1.9', '4.0.3 and up']\n",
      "\n",
      "\n",
      "['Filters for Selfie', 'BEAUTY', '4.3', '8572', '25M', '1,000,000+', 'Free', '0', 'Everyone', 'Beauty', 'May 10, 2018', '1.1.0', '4.0 and up']\n",
      "\n",
      "\n",
      "['Tie - Always be happy', 'BEAUTY', '4.7', '964', '9.0M', '50,000+', 'Free', '0', 'Everyone', 'Beauty', 'June 21, 2018', '4.0', '4.2 and up']\n",
      "\n",
      "\n",
      "['Ulta Beauty', 'BEAUTY', '4.7', '42050', 'Varies with device', '1,000,000+', 'Free', '0', 'Everyone', 'Beauty', 'June 5, 2018', '5.4', '5.0 and up']\n",
      "\n",
      "\n",
      "['Prom MakeUp Tutorial', 'BEAUTY', '4.8', '104', '12M', '10,000+', 'Free', '0', 'Everyone', 'Beauty', 'June 26, 2018', '1.3', '4.0.3 and up']\n",
      "\n",
      "\n",
      "['Selfie Camera', 'BEAUTY', '4.2', '17934', 'Varies with device', '1,000,000+', 'Free', '0', 'Everyone', 'Beauty', 'September 12, 2017', 'Varies with device', 'Varies with device']\n",
      "\n",
      "\n",
      "Number of rows:  10841\n",
      "Number of columns:  13\n"
     ]
    }
   ],
   "source": [
    "print(android_header)\n",
    "print('\\n')\n",
    "explore_data(android, 100, 110, True)"
   ]
  },
  {
   "cell_type": "markdown",
   "metadata": {},
   "source": [
    "We can see that we have data of 10841 Android apps. Columns that might be interesting for our analysis are Category, Reviews, Type, Price, Genre, Installs and App"
   ]
  },
  {
   "cell_type": "code",
   "execution_count": 17,
   "metadata": {},
   "outputs": [
    {
     "name": "stdout",
     "output_type": "stream",
     "text": [
      "['id', 'track_name', 'size_bytes', 'currency', 'price', 'rating_count_tot', 'rating_count_ver', 'user_rating', 'user_rating_ver', 'ver', 'cont_rating', 'prime_genre', 'sup_devices.num', 'ipadSc_urls.num', 'lang.num', 'vpp_lic']\n",
      "\n",
      "\n",
      "['284882215', 'Facebook', '389879808', 'USD', '0.0', '2974676', '212', '3.5', '3.5', '95.0', '4+', 'Social Networking', '37', '1', '29', '1']\n",
      "\n",
      "\n",
      "['389801252', 'Instagram', '113954816', 'USD', '0.0', '2161558', '1289', '4.5', '4.0', '10.23', '12+', 'Photo & Video', '37', '0', '29', '1']\n",
      "\n",
      "\n",
      "['529479190', 'Clash of Clans', '116476928', 'USD', '0.0', '2130805', '579', '4.5', '4.5', '9.24.12', '9+', 'Games', '38', '5', '18', '1']\n",
      "\n",
      "\n",
      "Number of rows:  7197\n",
      "Number of columns:  16\n"
     ]
    }
   ],
   "source": [
    "print(ios_header)\n",
    "print('\\n')\n",
    "explore_data(ios, 0, 3, True)"
   ]
  },
  {
   "cell_type": "markdown",
   "metadata": {},
   "source": [
    "We can see that we have data of 7197 iOS apps. Columns that might be interesting for our analysis are price, currency, rating_count_tot, \n",
    "rating_count_ver, prime_genre and track_name. More details about the columns are available [here.](https://www.kaggle.com/ramamet4/app-store-apple-data-set-10k-apps/home)\n"
   ]
  },
  {
   "cell_type": "markdown",
   "metadata": {},
   "source": [
    "### Looking for missing column enteries in rows"
   ]
  },
  {
   "cell_type": "code",
   "execution_count": 21,
   "metadata": {},
   "outputs": [
    {
     "name": "stdout",
     "output_type": "stream",
     "text": [
      "['Life Made WI-Fi Touchscreen Photo Frame', '1.9', '19', '3.0M', '1,000+', 'Free', '0', 'Everyone', '', 'February 11, 2018', '1.0.19', '4.0 and up']\n",
      "10472\n"
     ]
    }
   ],
   "source": [
    "header_len = len(android_header)\n",
    "for row in android:\n",
    "    if len(row) != header_len:\n",
    "        print(row)\n",
    "        print(android.index(row))"
   ]
  },
  {
   "cell_type": "markdown",
   "metadata": {},
   "source": [
    "We see above that the row 10472 has a missing value for column 'Category' causing a column shift in all the values.\n",
    "Here we can either delete the row using \"del android[10472]\" or we can insert the Category value if we can find out the value.\n",
    "Quick search on PlayStore show us that this [app](https://play.google.com/store/apps/details?id=com.lifemade.internetPhotoframe)\n",
    "belongs to the 'LifeStyle' category. So we can also insert that value into the row"
   ]
  },
  {
   "cell_type": "code",
   "execution_count": 27,
   "metadata": {},
   "outputs": [],
   "source": [
    "android[10472].insert(1, \"LIFESTYLE\")"
   ]
  },
  {
   "cell_type": "markdown",
   "metadata": {},
   "source": [
    "We did not find any such missing column value for the iOS dataset"
   ]
  },
  {
   "cell_type": "markdown",
   "metadata": {},
   "source": [
    "### Looking for duplicate enteries"
   ]
  },
  {
   "cell_type": "code",
   "execution_count": 30,
   "metadata": {},
   "outputs": [],
   "source": [
    "unique_apps = []\n",
    "duplicate_apps = []\n",
    "\n",
    "for row in android:\n",
    "    if row[0] in unique_apps:\n",
    "        duplicate_apps.append(row[0])\n",
    "    else:\n",
    "        unique_apps.append(row[0])"
   ]
  },
  {
   "cell_type": "code",
   "execution_count": 33,
   "metadata": {},
   "outputs": [
    {
     "name": "stdout",
     "output_type": "stream",
     "text": [
      "1181\n",
      "9660\n"
     ]
    }
   ],
   "source": [
    "print(len(duplicate_apps))\n",
    "print(len(unique_apps))"
   ]
  },
  {
   "cell_type": "markdown",
   "metadata": {},
   "source": [
    "We can see that there are 1181 duplicate app enteries. Lets take a closer look at the duplicates"
   ]
  },
  {
   "cell_type": "code",
   "execution_count": 35,
   "metadata": {},
   "outputs": [
    {
     "name": "stdout",
     "output_type": "stream",
     "text": [
      "['Instagram', 'SOCIAL', '4.5', '66577313', 'Varies with device', '1,000,000,000+', 'Free', '0', 'Teen', 'Social', 'July 31, 2018', 'Varies with device', 'Varies with device']\n",
      "['Instagram', 'SOCIAL', '4.5', '66577446', 'Varies with device', '1,000,000,000+', 'Free', '0', 'Teen', 'Social', 'July 31, 2018', 'Varies with device', 'Varies with device']\n",
      "['Instagram', 'SOCIAL', '4.5', '66577313', 'Varies with device', '1,000,000,000+', 'Free', '0', 'Teen', 'Social', 'July 31, 2018', 'Varies with device', 'Varies with device']\n",
      "['Instagram', 'SOCIAL', '4.5', '66509917', 'Varies with device', '1,000,000,000+', 'Free', '0', 'Teen', 'Social', 'July 31, 2018', 'Varies with device', 'Varies with device']\n"
     ]
    }
   ],
   "source": [
    "for row in android:\n",
    "    if row[0] == 'Instagram':\n",
    "        print(row)"
   ]
  },
  {
   "cell_type": "markdown",
   "metadata": {},
   "source": [
    "We see that the 4th column which is the count of reviews is different. This probably means that the different enteries were recorded\n",
    "at different points of time. We choose to keep only the latest entry with the max count of reviews as that will give us a more \n",
    "reliable avg. rating of the app."
   ]
  },
  {
   "cell_type": "code",
   "execution_count": 47,
   "metadata": {},
   "outputs": [],
   "source": [
    "reviews_max = {}\n",
    "for row in android:\n",
    "    name = row[0]\n",
    "    n_reviews = float(row[3])\n",
    "    # if the app is not present, we add the key and review to the dictionary\n",
    "    if name not in reviews_max:\n",
    "        reviews_max[name] = n_reviews\n",
    "        \n",
    "    # if the app is present and review count in the dictionary is less that current \n",
    "    # app entry we replace the review count with the new higher review count\n",
    "    elif name in reviews_max and n_reviews > reviews_max[name]:\n",
    "        reviews_max[name] = n_reviews\n",
    "    "
   ]
  },
  {
   "cell_type": "markdown",
   "metadata": {},
   "source": [
    "Previously we found that there are 1,181 cases where an app occurs more than once, so the length of our dictionary (of unique apps) \n",
    "should be equal to the difference between the length of our data set and 1,181."
   ]
  },
  {
   "cell_type": "code",
   "execution_count": 48,
   "metadata": {},
   "outputs": [
    {
     "name": "stdout",
     "output_type": "stream",
     "text": [
      "Expected Length  9660\n",
      "Actual Length  9660\n"
     ]
    }
   ],
   "source": [
    "print('Expected Length ', len(android) - 1181)\n",
    "print('Actual Length ', len(reviews_max))"
   ]
  },
  {
   "cell_type": "code",
   "execution_count": 49,
   "metadata": {},
   "outputs": [
    {
     "name": "stdout",
     "output_type": "stream",
     "text": [
      "9660\n"
     ]
    }
   ],
   "source": [
    "android_clean = []\n",
    "already_added = []\n",
    "for row in android:\n",
    "    name = row[0]\n",
    "    n_reviews = float(row[3])\n",
    "    if (n_reviews == reviews_max[name]) and (name not in already_added):\n",
    "        android_clean.append(row)\n",
    "        already_added.append(name)\n",
    "\n",
    "print(len(android_clean))        "
   ]
  },
  {
   "cell_type": "code",
   "execution_count": 50,
   "metadata": {},
   "outputs": [
    {
     "name": "stdout",
     "output_type": "stream",
     "text": [
      "0\n",
      "7197\n"
     ]
    }
   ],
   "source": [
    "unique_apps_ios = []\n",
    "duplicate_apps_ios = []\n",
    "\n",
    "for row in ios:\n",
    "    if row[0] in unique_apps_ios:\n",
    "        duplicate_apps_ios.append(row[0])\n",
    "    else:\n",
    "        unique_apps_ios.append(row[0])\n",
    "        \n",
    "print(len(duplicate_apps_ios))\n",
    "print(len(unique_apps_ios))"
   ]
  },
  {
   "cell_type": "markdown",
   "metadata": {},
   "source": [
    "So there are no duplicate enteries in the iOS AppStore dataset"
   ]
  },
  {
   "cell_type": "markdown",
   "metadata": {},
   "source": [
    "### Removing non-English app"
   ]
  },
  {
   "cell_type": "code",
   "execution_count": 51,
   "metadata": {},
   "outputs": [
    {
     "ename": "SyntaxError",
     "evalue": "invalid syntax (<ipython-input-51-a8bfe4b8a006>, line 1)",
     "output_type": "error",
     "traceback": [
      "\u001b[0;36m  File \u001b[0;32m\"<ipython-input-51-a8bfe4b8a006>\"\u001b[0;36m, line \u001b[0;32m1\u001b[0m\n\u001b[0;31m    We are focusing our analysis only towards apps in English language and need to remove other language apps.\u001b[0m\n\u001b[0m         ^\u001b[0m\n\u001b[0;31mSyntaxError\u001b[0m\u001b[0;31m:\u001b[0m invalid syntax\n"
     ]
    }
   ],
   "source": [
    "We are focusing our analysis only towards apps in English language and need to remove other language apps.\n",
    "All the characters commonly used in English text are in the ASCII range 0 to 127"
   ]
  },
  {
   "cell_type": "code",
   "execution_count": null,
   "metadata": {},
   "outputs": [],
   "source": []
  }
 ],
 "metadata": {
  "kernelspec": {
   "display_name": "Python 3",
   "language": "python",
   "name": "python3"
  },
  "language_info": {
   "codemirror_mode": {
    "name": "ipython",
    "version": 3
   },
   "file_extension": ".py",
   "mimetype": "text/x-python",
   "name": "python",
   "nbconvert_exporter": "python",
   "pygments_lexer": "ipython3",
   "version": "3.7.6"
  }
 },
 "nbformat": 4,
 "nbformat_minor": 4
}
