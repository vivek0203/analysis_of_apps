{
 "cells": [
  {
   "cell_type": "markdown",
   "metadata": {},
   "source": [
    "# Analyzing profitable App profiles on Google Play Store and iOS App Store"
   ]
  },
  {
   "cell_type": "markdown",
   "metadata": {},
   "source": [
    "We are trying to analyze apps data from Google Play Store and iOS App Store to help developers\n",
    "understand profitable app profiles.\n",
    "For a company building only free apps, the main source of revenue is customers. More the amount\n",
    "of customers enagaging with the apps and ads, more the revenue."
   ]
  },
  {
   "cell_type": "markdown",
   "metadata": {},
   "source": [
    "### Exploring the datasets\n",
    "As of September 2018, there were approximately 2 million iOS apps available on the App Store, and 2.1 million Android apps on Google Play.\n",
    "\n",
    "Collecting data for over four million apps requires a significant amount of time and money, so we'll try to analyze a sample of data instead. To avoid spending resources with collecting new data ourselves, we should first try to see whether we can find any relevant existing data at no cost. Luckily, these are two data sets that seem suitable for our purpose:\n",
    "\n",
    "A data set containing data about approximately ten thousand Android apps from Google Play. Available directly from [this link.](https://dq-content.s3.amazonaws.com/350/googleplaystore.csv)\n",
    "A data set containing data about approximately seven thousand iOS apps from the App Store. Available directly from [this link.](https://dq-content.s3.amazonaws.com/350/AppleStore.csv)"
   ]
  },
  {
   "cell_type": "code",
   "execution_count": 1,
   "metadata": {},
   "outputs": [],
   "source": [
    "from csv import reader"
   ]
  },
  {
   "cell_type": "code",
   "execution_count": 57,
   "metadata": {},
   "outputs": [],
   "source": [
    "# ios AppStore\n",
    "ios_opened_file = open('AppleStore.csv')\n",
    "ios_read_file = reader(ios_opened_file)\n",
    "ios = list(ios_read_file)\n",
    "ios_header = ios[0]\n",
    "ios = ios[1:]\n",
    "\n",
    "# Google PlayStore\n",
    "android_opened_file = open('googleplaystore.csv')\n",
    "android_read_file = reader(android_opened_file)\n",
    "android = list(android_read_file)\n",
    "android_header = android[0]\n",
    "android = android[1:]"
   ]
  },
  {
   "cell_type": "code",
   "execution_count": 58,
   "metadata": {},
   "outputs": [],
   "source": [
    "# helper function to print rows in a readable way\n",
    "# dataset is expected to a list of lists\n",
    "def explore_data(dataset, start, end, rows_and_columns=False):\n",
    "    dataset_slice = dataset[start:end]\n",
    "    for row in dataset_slice:\n",
    "        print(row)\n",
    "        print('\\n')\n",
    "        \n",
    "    if rows_and_columns:\n",
    "        print('Number of rows: ', len(dataset))\n",
    "        print('Number of columns: ', len(dataset[0]))"
   ]
  },
  {
   "cell_type": "code",
   "execution_count": 59,
   "metadata": {},
   "outputs": [
    {
     "name": "stdout",
     "output_type": "stream",
     "text": [
      "['App', 'Category', 'Rating', 'Reviews', 'Size', 'Installs', 'Type', 'Price', 'Content Rating', 'Genres', 'Last Updated', 'Current Ver', 'Android Ver']\n",
      "\n",
      "\n",
      "['Natural recipes for your beauty', 'BEAUTY', '4.7', '1150', '9.8M', '100,000+', 'Free', '0', 'Everyone', 'Beauty', 'May 15, 2018', '4.0', '4.1 and up']\n",
      "\n",
      "\n",
      "['BestCam Selfie-selfie, beauty camera, photo editor', 'BEAUTY', '3.9', '1739', '21M', '500,000+', 'Free', '0', 'Everyone', 'Beauty', 'July 12, 2018', '1.0.6', '4.0.3 and up']\n",
      "\n",
      "\n",
      "['Mirror - Zoom & Exposure -', 'BEAUTY', '3.9', '32090', 'Varies with device', '1,000,000+', 'Free', '0', 'Everyone', 'Beauty', 'October 24, 2016', 'Varies with device', 'Varies with device']\n",
      "\n",
      "\n",
      "['Beauty Selfie Camera', 'BEAUTY', '4.2', '2225', '52M', '500,000+', 'Free', '0', 'Everyone', 'Beauty', 'February 28, 2018', '1.6', '4.1 and up']\n",
      "\n",
      "\n",
      "['Hairstyles step by step', 'BEAUTY', '4.6', '4369', '14M', '100,000+', 'Free', '0', 'Everyone', 'Beauty', 'July 25, 2018', '1.9', '4.0.3 and up']\n",
      "\n",
      "\n",
      "['Filters for Selfie', 'BEAUTY', '4.3', '8572', '25M', '1,000,000+', 'Free', '0', 'Everyone', 'Beauty', 'May 10, 2018', '1.1.0', '4.0 and up']\n",
      "\n",
      "\n",
      "['Tie - Always be happy', 'BEAUTY', '4.7', '964', '9.0M', '50,000+', 'Free', '0', 'Everyone', 'Beauty', 'June 21, 2018', '4.0', '4.2 and up']\n",
      "\n",
      "\n",
      "['Ulta Beauty', 'BEAUTY', '4.7', '42050', 'Varies with device', '1,000,000+', 'Free', '0', 'Everyone', 'Beauty', 'June 5, 2018', '5.4', '5.0 and up']\n",
      "\n",
      "\n",
      "['Prom MakeUp Tutorial', 'BEAUTY', '4.8', '104', '12M', '10,000+', 'Free', '0', 'Everyone', 'Beauty', 'June 26, 2018', '1.3', '4.0.3 and up']\n",
      "\n",
      "\n",
      "['Selfie Camera', 'BEAUTY', '4.2', '17934', 'Varies with device', '1,000,000+', 'Free', '0', 'Everyone', 'Beauty', 'September 12, 2017', 'Varies with device', 'Varies with device']\n",
      "\n",
      "\n",
      "Number of rows:  10841\n",
      "Number of columns:  13\n"
     ]
    }
   ],
   "source": [
    "print(android_header)\n",
    "print('\\n')\n",
    "explore_data(android, 100, 110, True)"
   ]
  },
  {
   "cell_type": "markdown",
   "metadata": {},
   "source": [
    "We can see that we have data of 10841 Android apps. Columns that might be interesting for our analysis are Category, Reviews, Type, Price, Genre, Installs and App"
   ]
  },
  {
   "cell_type": "code",
   "execution_count": 60,
   "metadata": {},
   "outputs": [
    {
     "name": "stdout",
     "output_type": "stream",
     "text": [
      "['id', 'track_name', 'size_bytes', 'currency', 'price', 'rating_count_tot', 'rating_count_ver', 'user_rating', 'user_rating_ver', 'ver', 'cont_rating', 'prime_genre', 'sup_devices.num', 'ipadSc_urls.num', 'lang.num', 'vpp_lic']\n",
      "\n",
      "\n",
      "['284882215', 'Facebook', '389879808', 'USD', '0.0', '2974676', '212', '3.5', '3.5', '95.0', '4+', 'Social Networking', '37', '1', '29', '1']\n",
      "\n",
      "\n",
      "['389801252', 'Instagram', '113954816', 'USD', '0.0', '2161558', '1289', '4.5', '4.0', '10.23', '12+', 'Photo & Video', '37', '0', '29', '1']\n",
      "\n",
      "\n",
      "['529479190', 'Clash of Clans', '116476928', 'USD', '0.0', '2130805', '579', '4.5', '4.5', '9.24.12', '9+', 'Games', '38', '5', '18', '1']\n",
      "\n",
      "\n",
      "Number of rows:  7197\n",
      "Number of columns:  16\n"
     ]
    }
   ],
   "source": [
    "print(ios_header)\n",
    "print('\\n')\n",
    "explore_data(ios, 0, 3, True)"
   ]
  },
  {
   "cell_type": "markdown",
   "metadata": {},
   "source": [
    "We can see that we have data of 7197 iOS apps. Columns that might be interesting for our analysis are price, currency, rating_count_tot, \n",
    "rating_count_ver, prime_genre and track_name. More details about the columns are available [here.](https://www.kaggle.com/ramamet4/app-store-apple-data-set-10k-apps/home)\n"
   ]
  },
  {
   "cell_type": "markdown",
   "metadata": {},
   "source": [
    "### Looking for missing column enteries in rows"
   ]
  },
  {
   "cell_type": "code",
   "execution_count": 61,
   "metadata": {},
   "outputs": [
    {
     "name": "stdout",
     "output_type": "stream",
     "text": [
      "['Life Made WI-Fi Touchscreen Photo Frame', '1.9', '19', '3.0M', '1,000+', 'Free', '0', 'Everyone', '', 'February 11, 2018', '1.0.19', '4.0 and up']\n",
      "10472\n"
     ]
    }
   ],
   "source": [
    "header_len = len(android_header)\n",
    "for row in android:\n",
    "    if len(row) != header_len:\n",
    "        print(row)\n",
    "        print(android.index(row))"
   ]
  },
  {
   "cell_type": "markdown",
   "metadata": {},
   "source": [
    "We see above that the row 10472 has a missing value for column 'Category' causing a column shift in all the values.\n",
    "Here we can either delete the row using \"del android[10472]\" or we can insert the Category value if we can find out the value.\n",
    "Quick search on PlayStore show us that this [app](https://play.google.com/store/apps/details?id=com.lifemade.internetPhotoframe)\n",
    "belongs to the 'LifeStyle' category. So we can also insert that value into the row"
   ]
  },
  {
   "cell_type": "code",
   "execution_count": 62,
   "metadata": {},
   "outputs": [],
   "source": [
    "android[10472].insert(1, \"LIFESTYLE\")"
   ]
  },
  {
   "cell_type": "markdown",
   "metadata": {},
   "source": [
    "We did not find any such missing column value for the iOS dataset"
   ]
  },
  {
   "cell_type": "markdown",
   "metadata": {},
   "source": [
    "### Looking for duplicate enteries"
   ]
  },
  {
   "cell_type": "code",
   "execution_count": 63,
   "metadata": {},
   "outputs": [],
   "source": [
    "unique_apps = []\n",
    "duplicate_apps = []\n",
    "\n",
    "for row in android:\n",
    "    if row[0] in unique_apps:\n",
    "        duplicate_apps.append(row[0])\n",
    "    else:\n",
    "        unique_apps.append(row[0])"
   ]
  },
  {
   "cell_type": "code",
   "execution_count": 64,
   "metadata": {},
   "outputs": [
    {
     "name": "stdout",
     "output_type": "stream",
     "text": [
      "1181\n",
      "9660\n"
     ]
    }
   ],
   "source": [
    "print(len(duplicate_apps))\n",
    "print(len(unique_apps))"
   ]
  },
  {
   "cell_type": "markdown",
   "metadata": {},
   "source": [
    "We can see that there are 1181 duplicate app enteries. Lets take a closer look at the duplicates"
   ]
  },
  {
   "cell_type": "code",
   "execution_count": 65,
   "metadata": {},
   "outputs": [
    {
     "name": "stdout",
     "output_type": "stream",
     "text": [
      "['Instagram', 'SOCIAL', '4.5', '66577313', 'Varies with device', '1,000,000,000+', 'Free', '0', 'Teen', 'Social', 'July 31, 2018', 'Varies with device', 'Varies with device']\n",
      "['Instagram', 'SOCIAL', '4.5', '66577446', 'Varies with device', '1,000,000,000+', 'Free', '0', 'Teen', 'Social', 'July 31, 2018', 'Varies with device', 'Varies with device']\n",
      "['Instagram', 'SOCIAL', '4.5', '66577313', 'Varies with device', '1,000,000,000+', 'Free', '0', 'Teen', 'Social', 'July 31, 2018', 'Varies with device', 'Varies with device']\n",
      "['Instagram', 'SOCIAL', '4.5', '66509917', 'Varies with device', '1,000,000,000+', 'Free', '0', 'Teen', 'Social', 'July 31, 2018', 'Varies with device', 'Varies with device']\n"
     ]
    }
   ],
   "source": [
    "for row in android:\n",
    "    if row[0] == 'Instagram':\n",
    "        print(row)"
   ]
  },
  {
   "cell_type": "markdown",
   "metadata": {},
   "source": [
    "We see that the 4th column which is the count of reviews is different. This probably means that the different enteries were recorded\n",
    "at different points of time. We choose to keep only the latest entry with the max count of reviews as that will give us a more \n",
    "reliable avg. rating of the app."
   ]
  },
  {
   "cell_type": "code",
   "execution_count": 66,
   "metadata": {},
   "outputs": [],
   "source": [
    "reviews_max = {}\n",
    "for row in android:\n",
    "    name = row[0]\n",
    "    n_reviews = float(row[3])\n",
    "    # if the app is not present, we add the key and review to the dictionary\n",
    "    if name not in reviews_max:\n",
    "        reviews_max[name] = n_reviews\n",
    "        \n",
    "    # if the app is present and review count in the dictionary is less that current \n",
    "    # app entry we replace the review count with the new higher review count\n",
    "    elif name in reviews_max and n_reviews > reviews_max[name]:\n",
    "        reviews_max[name] = n_reviews\n",
    "    "
   ]
  },
  {
   "cell_type": "markdown",
   "metadata": {},
   "source": [
    "Previously we found that there are 1,181 cases where an app occurs more than once, so the length of our dictionary (of unique apps) \n",
    "should be equal to the difference between the length of our data set and 1,181."
   ]
  },
  {
   "cell_type": "code",
   "execution_count": 67,
   "metadata": {},
   "outputs": [
    {
     "name": "stdout",
     "output_type": "stream",
     "text": [
      "Expected Length  9660\n",
      "Actual Length  9660\n"
     ]
    }
   ],
   "source": [
    "print('Expected Length ', len(android) - 1181)\n",
    "print('Actual Length ', len(reviews_max))"
   ]
  },
  {
   "cell_type": "code",
   "execution_count": 68,
   "metadata": {},
   "outputs": [
    {
     "name": "stdout",
     "output_type": "stream",
     "text": [
      "9660\n"
     ]
    }
   ],
   "source": [
    "android_clean = []\n",
    "already_added = []\n",
    "for row in android:\n",
    "    name = row[0]\n",
    "    n_reviews = float(row[3])\n",
    "    if (n_reviews == reviews_max[name]) and (name not in already_added):\n",
    "        android_clean.append(row)\n",
    "        already_added.append(name)\n",
    "\n",
    "print(len(android_clean))        "
   ]
  },
  {
   "cell_type": "code",
   "execution_count": 69,
   "metadata": {},
   "outputs": [
    {
     "name": "stdout",
     "output_type": "stream",
     "text": [
      "0\n",
      "7197\n"
     ]
    }
   ],
   "source": [
    "unique_apps_ios = []\n",
    "duplicate_apps_ios = []\n",
    "\n",
    "for row in ios:\n",
    "    if row[0] in unique_apps_ios:\n",
    "        duplicate_apps_ios.append(row[0])\n",
    "    else:\n",
    "        unique_apps_ios.append(row[0])\n",
    "        \n",
    "print(len(duplicate_apps_ios))\n",
    "print(len(unique_apps_ios))"
   ]
  },
  {
   "cell_type": "markdown",
   "metadata": {},
   "source": [
    "So there are no duplicate enteries in the iOS AppStore dataset"
   ]
  },
  {
   "cell_type": "markdown",
   "metadata": {},
   "source": [
    "### Removing non-English app"
   ]
  },
  {
   "cell_type": "markdown",
   "metadata": {},
   "source": [
    "We are focusing our analysis only towards apps in English language and need to remove other language apps.\n",
    "All the characters commonly used in English text are in the ASCII range 0 to 127. So we detect app whose names \n",
    "have non-English characters (ASCII outside the range 0-127) and remove rows corresponding to those enteries."
   ]
  },
  {
   "cell_type": "code",
   "execution_count": 70,
   "metadata": {},
   "outputs": [],
   "source": [
    "# function to look for characters in string that are outside the range of English character ASCII values\n",
    "def is_english_str(str):\n",
    "    for char in str:\n",
    "        if ord(char) > 127:\n",
    "            return False\n",
    "    return True    "
   ]
  },
  {
   "cell_type": "code",
   "execution_count": 71,
   "metadata": {},
   "outputs": [
    {
     "name": "stdout",
     "output_type": "stream",
     "text": [
      "False\n",
      "True\n"
     ]
    }
   ],
   "source": [
    "print(is_english_str(\"爱奇艺PPS -《欢乐颂2》电视剧热播\"))\n",
    "print(is_english_str(\"Instagram\"))"
   ]
  },
  {
   "cell_type": "code",
   "execution_count": 72,
   "metadata": {},
   "outputs": [
    {
     "name": "stdout",
     "output_type": "stream",
     "text": [
      "False\n"
     ]
    }
   ],
   "source": [
    "# this function has the problem that it also marks emojis and strings like Docs To Go™ Free Office Suite\n",
    "# as non-English as '™' and emojis fall outside the valid English ASCII range.\n",
    "print(is_english_str(\"Docs To Go™ Free Office Suite\"))"
   ]
  },
  {
   "cell_type": "code",
   "execution_count": 73,
   "metadata": {},
   "outputs": [
    {
     "name": "stdout",
     "output_type": "stream",
     "text": [
      "True\n"
     ]
    }
   ],
   "source": [
    "# edit the function to look for more than 3 invlaid characters\n",
    "def is_english_str(str):\n",
    "    count_invalid = 0\n",
    "    for char in str:\n",
    "        if ord(char) > 127:\n",
    "            count_invalid += 1\n",
    "    if count_invalid > 3:\n",
    "        return False\n",
    "    return True    \n",
    "\n",
    "print(is_english_str(\"Docs To Go™ Free Office Suite\"))"
   ]
  },
  {
   "cell_type": "code",
   "execution_count": 74,
   "metadata": {},
   "outputs": [
    {
     "name": "stdout",
     "output_type": "stream",
     "text": [
      "Total Android apps:  9660\n",
      "English Android apps:  9615\n"
     ]
    }
   ],
   "source": [
    "android_english_count = 0\n",
    "for row in android_clean:\n",
    "    if is_english_str(row[0]):\n",
    "        android_english_count += 1\n",
    "print('Total Android apps: ', len(android_clean))         \n",
    "print('English Android apps: ',android_english_count)        "
   ]
  },
  {
   "cell_type": "code",
   "execution_count": 75,
   "metadata": {},
   "outputs": [
    {
     "name": "stdout",
     "output_type": "stream",
     "text": [
      "English Android apps:  9615\n"
     ]
    }
   ],
   "source": [
    "# remove non-English app rows from the android_clean dataset\n",
    "android_english = []\n",
    "for row in android_clean:\n",
    "    if is_english_str(row[0]):\n",
    "        android_english.append(row)\n",
    "\n",
    "print('English Android apps: ', len(android_english))        "
   ]
  },
  {
   "cell_type": "code",
   "execution_count": 76,
   "metadata": {},
   "outputs": [
    {
     "name": "stdout",
     "output_type": "stream",
     "text": [
      "Total ios apps:  7197\n",
      "English ios apps:  7197\n"
     ]
    }
   ],
   "source": [
    "ios_english_count = 0\n",
    "for row in ios:\n",
    "    if is_english_str(row[0]):\n",
    "        ios_english_count += 1\n",
    "print('Total ios apps: ', len(ios))         \n",
    "print('English ios apps: ',ios_english_count)   \n",
    "\n",
    "# there are no iOS apps which need to be removed"
   ]
  },
  {
   "cell_type": "markdown",
   "metadata": {},
   "source": [
    "### Remove non-free apps from the dataset"
   ]
  },
  {
   "cell_type": "markdown",
   "metadata": {},
   "source": [
    "We are only focussed towards free apps as revenue is generated by user engagement with the app and ads only.\n",
    "We look for non-free apps in the dataset and remove them"
   ]
  },
  {
   "cell_type": "code",
   "execution_count": 77,
   "metadata": {},
   "outputs": [
    {
     "name": "stdout",
     "output_type": "stream",
     "text": [
      "['Photo Editor & Candy Camera & Grid & ScrapBook', 'ART_AND_DESIGN', '4.1', '159', '19M', '10,000+', 'Free', '0', 'Everyone', 'Art & Design', 'January 7, 2018', '1.0.0', '4.0.3 and up']\n",
      "\n",
      "\n",
      "['U Launcher Lite – FREE Live Cool Themes, Hide Apps', 'ART_AND_DESIGN', '4.7', '87510', '8.7M', '5,000,000+', 'Free', '0', 'Everyone', 'Art & Design', 'August 1, 2018', '1.2.4', '4.0.3 and up']\n",
      "\n",
      "\n",
      "['284882215', 'Facebook', '389879808', 'USD', '0.0', '2974676', '212', '3.5', '3.5', '95.0', '4+', 'Social Networking', '37', '1', '29', '1']\n",
      "\n",
      "\n",
      "['389801252', 'Instagram', '113954816', 'USD', '0.0', '2161558', '1289', '4.5', '4.0', '10.23', '12+', 'Photo & Video', '37', '0', '29', '1']\n",
      "\n",
      "\n"
     ]
    }
   ],
   "source": [
    "explore_data(android_english, 0, 2)\n",
    "explore_data(ios, 0, 2)"
   ]
  },
  {
   "cell_type": "code",
   "execution_count": 78,
   "metadata": {},
   "outputs": [
    {
     "name": "stdout",
     "output_type": "stream",
     "text": [
      "{'Free': 8864, 'Paid': 750, 'NaN': 1}\n",
      "{'Free': 4056, 'Paid': 3141}\n"
     ]
    }
   ],
   "source": [
    "# We see that column 7 of the android dataset is used for price information\n",
    "android_price_info_dict = {}\n",
    "for row in android_english:\n",
    "    price = row[6]\n",
    "    if price in android_price_info_dict:\n",
    "        android_price_info_dict[price] += 1\n",
    "    else:\n",
    "        android_price_info_dict[price] = 1\n",
    "print(android_price_info_dict)        \n",
    "\n",
    "ios_price_info_dict = {'Free':0, 'Paid':0}\n",
    "for row in ios:\n",
    "    if row[4] == '0.0':\n",
    "        ios_price_info_dict['Free'] += 1\n",
    "    else:\n",
    "        ios_price_info_dict['Paid'] += 1\n",
    "print(ios_price_info_dict)        \n",
    "        "
   ]
  },
  {
   "cell_type": "markdown",
   "metadata": {},
   "source": [
    "We can see that there for Android there are 8865 (including the NaN) free apps and 750 paid apps.\n",
    "For iOS, there are 4065 free appps and 3141 paid apps."
   ]
  },
  {
   "cell_type": "code",
   "execution_count": 79,
   "metadata": {},
   "outputs": [
    {
     "name": "stdout",
     "output_type": "stream",
     "text": [
      "8865\n",
      "4056\n"
     ]
    }
   ],
   "source": [
    "# lets remove the non-free apps \n",
    "android_final = []\n",
    "ios_final = []\n",
    "\n",
    "for app in android_english:\n",
    "    price = app[7]\n",
    "    if price == '0':\n",
    "        android_final.append(app)\n",
    "        \n",
    "for app in ios:\n",
    "    price = app[4]\n",
    "    if price == '0.0':\n",
    "        ios_final.append(app)\n",
    "        \n",
    "print(len(android_final))\n",
    "print(len(ios_final))"
   ]
  },
  {
   "cell_type": "code",
   "execution_count": 80,
   "metadata": {},
   "outputs": [
    {
     "name": "stdout",
     "output_type": "stream",
     "text": [
      "['Photo Editor & Candy Camera & Grid & ScrapBook', 'ART_AND_DESIGN', '4.1', '159', '19M', '10,000+', 'Free', '0', 'Everyone', 'Art & Design', 'January 7, 2018', '1.0.0', '4.0.3 and up']\n",
      "\n",
      "\n",
      "['U Launcher Lite – FREE Live Cool Themes, Hide Apps', 'ART_AND_DESIGN', '4.7', '87510', '8.7M', '5,000,000+', 'Free', '0', 'Everyone', 'Art & Design', 'August 1, 2018', '1.2.4', '4.0.3 and up']\n",
      "\n",
      "\n"
     ]
    }
   ],
   "source": [
    "explore_data(android_final, 0, 2)"
   ]
  },
  {
   "cell_type": "markdown",
   "metadata": {},
   "source": [
    "### Most successfull apps by genre\n",
    "\n",
    "Our aim is to determine the kinds of apps that are likely to attract more users because our revenue is highly influenced by the number of people using our apps.\n",
    "Let's begin the analysis by getting a sense of the most common genres for each market. For this, we'll build a frequency table for the prime_genre column of the App Store data set, and the Genres and Category columns of the Google Play data set."
   ]
  },
  {
   "cell_type": "code",
   "execution_count": 81,
   "metadata": {},
   "outputs": [],
   "source": [
    "def freq_table(dataset, index):\n",
    "    table = {}\n",
    "    total = 0\n",
    "    \n",
    "    for row in dataset:\n",
    "        total += 1\n",
    "        value = row[index]\n",
    "        if value in table:\n",
    "            table[value] += 1\n",
    "        else:\n",
    "            table[value] = 1\n",
    "    \n",
    "    table_percentages = {}\n",
    "    for key in table:\n",
    "        percentage = (table[key] / total) * 100\n",
    "        table_percentages[key] = percentage \n",
    "    return table_percentages\n",
    "\n",
    "\n",
    "def display_table(dataset, index):\n",
    "    table = freq_table(dataset, index)\n",
    "    table_display = []\n",
    "    for key in table:\n",
    "        key_val_as_tuple = (table[key], key)\n",
    "        table_display.append(key_val_as_tuple)\n",
    "        \n",
    "    table_sorted = sorted(table_display, reverse = True)\n",
    "    for entry in table_sorted:\n",
    "        print(entry[1], ':', entry[0])"
   ]
  },
  {
   "cell_type": "code",
   "execution_count": 83,
   "metadata": {},
   "outputs": [
    {
     "name": "stdout",
     "output_type": "stream",
     "text": [
      "FAMILY : 18.905809362662154\n",
      "GAME : 9.723632261703328\n",
      "TOOLS : 8.460236886632826\n",
      "BUSINESS : 4.591088550479413\n",
      "LIFESTYLE : 3.914269599548787\n",
      "PRODUCTIVITY : 3.8917089678511\n",
      "FINANCE : 3.699943598420756\n",
      "MEDICAL : 3.5307388606880994\n",
      "SPORTS : 3.395375070501974\n",
      "PERSONALIZATION : 3.3164128595600673\n",
      "COMMUNICATION : 3.2374506486181613\n",
      "HEALTH_AND_FITNESS : 3.0795262267343486\n",
      "PHOTOGRAPHY : 2.9441624365482233\n",
      "NEWS_AND_MAGAZINES : 2.7975183305132543\n",
      "SOCIAL : 2.662154540327129\n",
      "TRAVEL_AND_LOCAL : 2.33502538071066\n",
      "SHOPPING : 2.2447828539199097\n",
      "BOOKS_AND_REFERENCE : 2.143260011280316\n",
      "DATING : 1.8612521150592216\n",
      "VIDEO_PLAYERS : 1.793570219966159\n",
      "MAPS_AND_NAVIGATION : 1.3987591652566271\n",
      "FOOD_AND_DRINK : 1.2408347433728144\n",
      "EDUCATION : 1.161872532430908\n",
      "ENTERTAINMENT : 0.9588268471517203\n",
      "LIBRARIES_AND_DEMO : 0.9362662154540328\n",
      "AUTO_AND_VEHICLES : 0.924985899605189\n",
      "HOUSE_AND_HOME : 0.8234630569655951\n",
      "WEATHER : 0.8009024252679076\n",
      "EVENTS : 0.7106598984771574\n",
      "PARENTING : 0.6542583192329385\n",
      "ART_AND_DESIGN : 0.6429780033840948\n",
      "COMICS : 0.6204173716864072\n",
      "BEAUTY : 0.5978567399887197\n"
     ]
    }
   ],
   "source": [
    "display_table(android_final, 1) # Category"
   ]
  },
  {
   "cell_type": "markdown",
   "metadata": {},
   "source": [
    "From the category percentages table we can see that 'FAMILY' is the pre-dominant category with a percentage of 18%. Upon further investigation on the PlayStore, I found that this category is mostly games for kids. Alongwith the 'FAMILY' category we can see that the Play Store is dominated by utility apps meant for Education, Business, Productivity, Lifestyle finance."
   ]
  },
  {
   "cell_type": "code",
   "execution_count": 86,
   "metadata": {},
   "outputs": [
    {
     "name": "stdout",
     "output_type": "stream",
     "text": [
      "Tools : 8.44895657078398\n",
      "Entertainment : 6.068809926677947\n",
      "Education : 5.346869712351946\n",
      "Business : 4.591088550479413\n",
      "Productivity : 3.8917089678511\n",
      "Lifestyle : 3.8917089678511\n",
      "Finance : 3.699943598420756\n",
      "Medical : 3.5307388606880994\n",
      "Sports : 3.4630569655950363\n",
      "Personalization : 3.3164128595600673\n",
      "Communication : 3.2374506486181613\n",
      "Action : 3.102086858432036\n",
      "Health & Fitness : 3.0795262267343486\n",
      "Photography : 2.9441624365482233\n",
      "News & Magazines : 2.7975183305132543\n",
      "Social : 2.662154540327129\n",
      "Travel & Local : 2.323745064861816\n",
      "Shopping : 2.2447828539199097\n",
      "Books & Reference : 2.143260011280316\n",
      "Simulation : 2.0417371686407217\n",
      "Dating : 1.8612521150592216\n",
      "Arcade : 1.849971799210378\n",
      "Video Players & Editors : 1.7710095882684715\n",
      "Casual : 1.7597292724196276\n",
      "Maps & Navigation : 1.3987591652566271\n",
      "Food & Drink : 1.2408347433728144\n",
      "Puzzle : 1.1280315848843767\n",
      "Racing : 0.9926677946982515\n",
      "Role Playing : 0.9362662154540328\n",
      "Libraries & Demo : 0.9362662154540328\n",
      "Auto & Vehicles : 0.924985899605189\n",
      "Strategy : 0.9137055837563453\n",
      "House & Home : 0.8234630569655951\n",
      "Weather : 0.8009024252679076\n",
      "Events : 0.7106598984771574\n",
      "Adventure : 0.676818950930626\n",
      "Comics : 0.6091370558375634\n",
      "Beauty : 0.5978567399887197\n",
      "Art & Design : 0.5978567399887197\n",
      "Parenting : 0.49633389734912575\n",
      "Card : 0.4512126339537508\n",
      "Casino : 0.42865200225606315\n",
      "Trivia : 0.4173716864072194\n",
      "Educational;Education : 0.39481105470953193\n",
      "Board : 0.3835307388606881\n",
      "Educational : 0.3722504230118443\n",
      "Education;Education : 0.338409475465313\n",
      "Word : 0.25944726452340666\n",
      "Casual;Pretend Play : 0.23688663282571912\n",
      "Music : 0.20304568527918782\n",
      "Racing;Action & Adventure : 0.1692047377326565\n",
      "Puzzle;Brain Games : 0.1692047377326565\n",
      "Entertainment;Music & Video : 0.1692047377326565\n",
      "Casual;Brain Games : 0.1353637901861252\n",
      "Casual;Action & Adventure : 0.1353637901861252\n",
      "Arcade;Action & Adventure : 0.12408347433728144\n",
      "Action;Action & Adventure : 0.10152284263959391\n",
      "Educational;Pretend Play : 0.09024252679075014\n",
      "Simulation;Action & Adventure : 0.07896221094190638\n",
      "Parenting;Education : 0.07896221094190638\n",
      "Entertainment;Brain Games : 0.07896221094190638\n",
      "Board;Brain Games : 0.07896221094190638\n",
      "Parenting;Music & Video : 0.0676818950930626\n",
      "Educational;Brain Games : 0.0676818950930626\n",
      "Casual;Creativity : 0.0676818950930626\n",
      "Art & Design;Creativity : 0.0676818950930626\n",
      "Education;Pretend Play : 0.05640157924421885\n",
      "Role Playing;Pretend Play : 0.04512126339537507\n",
      "Education;Creativity : 0.04512126339537507\n",
      "Role Playing;Action & Adventure : 0.0338409475465313\n",
      "Puzzle;Action & Adventure : 0.0338409475465313\n",
      "Entertainment;Creativity : 0.0338409475465313\n",
      "Entertainment;Action & Adventure : 0.0338409475465313\n",
      "Educational;Creativity : 0.0338409475465313\n",
      "Educational;Action & Adventure : 0.0338409475465313\n",
      "Education;Music & Video : 0.0338409475465313\n",
      "Education;Brain Games : 0.0338409475465313\n",
      "Education;Action & Adventure : 0.0338409475465313\n",
      "Adventure;Action & Adventure : 0.0338409475465313\n",
      "Video Players & Editors;Music & Video : 0.022560631697687534\n",
      "Sports;Action & Adventure : 0.022560631697687534\n",
      "Simulation;Pretend Play : 0.022560631697687534\n",
      "Puzzle;Creativity : 0.022560631697687534\n",
      "Music;Music & Video : 0.022560631697687534\n",
      "Entertainment;Pretend Play : 0.022560631697687534\n",
      "Casual;Education : 0.022560631697687534\n",
      "Board;Action & Adventure : 0.022560631697687534\n",
      "Video Players & Editors;Creativity : 0.011280315848843767\n",
      "Trivia;Education : 0.011280315848843767\n",
      "Travel & Local;Action & Adventure : 0.011280315848843767\n",
      "Tools;Education : 0.011280315848843767\n",
      "Strategy;Education : 0.011280315848843767\n",
      "Strategy;Creativity : 0.011280315848843767\n",
      "Strategy;Action & Adventure : 0.011280315848843767\n",
      "Simulation;Education : 0.011280315848843767\n",
      "Role Playing;Brain Games : 0.011280315848843767\n",
      "Racing;Pretend Play : 0.011280315848843767\n",
      "Puzzle;Education : 0.011280315848843767\n",
      "Parenting;Brain Games : 0.011280315848843767\n",
      "Music & Audio;Music & Video : 0.011280315848843767\n",
      "Lifestyle;Pretend Play : 0.011280315848843767\n",
      "Lifestyle;Education : 0.011280315848843767\n",
      "Health & Fitness;Education : 0.011280315848843767\n",
      "Health & Fitness;Action & Adventure : 0.011280315848843767\n",
      "Entertainment;Education : 0.011280315848843767\n",
      "Communication;Creativity : 0.011280315848843767\n",
      "Comics;Creativity : 0.011280315848843767\n",
      "Casual;Music & Video : 0.011280315848843767\n",
      "Card;Action & Adventure : 0.011280315848843767\n",
      "Books & Reference;Education : 0.011280315848843767\n",
      "Art & Design;Pretend Play : 0.011280315848843767\n",
      "Art & Design;Action & Adventure : 0.011280315848843767\n",
      "Arcade;Pretend Play : 0.011280315848843767\n",
      "Adventure;Education : 0.011280315848843767\n",
      " : 0.011280315848843767\n"
     ]
    }
   ],
   "source": [
    "# further inspecting the genres column of the PlayStore dataset\n",
    "display_table(android_final, -4)"
   ]
  },
  {
   "cell_type": "markdown",
   "metadata": {},
   "source": [
    "Genres columns from the PlasyStore is quite granular with a lot of categories. But here also we see the same\n",
    "pattern that tool and utility apps are dominate the market. Of course, this does not imply more number of users."
   ]
  },
  {
   "cell_type": "code",
   "execution_count": 48,
   "metadata": {},
   "outputs": [
    {
     "name": "stdout",
     "output_type": "stream",
     "text": [
      "Games : 55.64595660749507\n",
      "Entertainment : 8.234714003944774\n",
      "Photo & Video : 4.117357001972387\n",
      "Social Networking : 3.5256410256410255\n",
      "Education : 3.2544378698224854\n",
      "Shopping : 2.983234714003945\n",
      "Utilities : 2.687376725838264\n",
      "Lifestyle : 2.3175542406311638\n",
      "Finance : 2.0710059171597637\n",
      "Sports : 1.947731755424063\n",
      "Health & Fitness : 1.8737672583826428\n",
      "Music : 1.6518737672583828\n",
      "Book : 1.6272189349112427\n",
      "Productivity : 1.5285996055226825\n",
      "News : 1.4299802761341223\n",
      "Travel : 1.3806706114398422\n",
      "Food & Drink : 1.0601577909270217\n",
      "Weather : 0.7642998027613412\n",
      "Reference : 0.4930966469428008\n",
      "Navigation : 0.4930966469428008\n",
      "Business : 0.4930966469428008\n",
      "Catalogs : 0.22189349112426035\n",
      "Medical : 0.19723865877712032\n"
     ]
    }
   ],
   "source": [
    "display_table(ios_final, 11)"
   ]
  },
  {
   "cell_type": "markdown",
   "metadata": {},
   "source": [
    "The landscape of ios apps seems completely different compared to PlayStore. Market is very heavily dominated by\n",
    "games apps(close to 56%). However, this does not imply that greatest number of users i.e. demand might not be the same \n",
    "as the offer."
   ]
  },
  {
   "cell_type": "markdown",
   "metadata": {},
   "source": [
    "### Popular app by Genre on Google Play Store"
   ]
  },
  {
   "cell_type": "markdown",
   "metadata": {},
   "source": [
    "For PlayStore apps dataset we have the number of installs, so we can get clear picture of genre popularity from that column information"
   ]
  },
  {
   "cell_type": "code",
   "execution_count": 88,
   "metadata": {},
   "outputs": [
    {
     "name": "stdout",
     "output_type": "stream",
     "text": [
      "1,000,000+ : 15.724760293288211\n",
      "100,000+ : 11.551043429216017\n",
      "10,000,000+ : 10.547095318668923\n",
      "10,000+ : 10.197405527354766\n",
      "1,000+ : 8.403835307388608\n",
      "100+ : 6.91483361534123\n",
      "5,000,000+ : 6.824591088550479\n",
      "500,000+ : 5.561195713479977\n",
      "50,000+ : 4.771573604060913\n",
      "5,000+ : 4.512126339537507\n",
      "10+ : 3.542019176536943\n",
      "500+ : 3.248730964467005\n",
      "50,000,000+ : 2.3011844331641287\n",
      "100,000,000+ : 2.131979695431472\n",
      "50+ : 1.9176536943034406\n",
      "5+ : 0.7896221094190639\n",
      "1+ : 0.5076142131979695\n",
      "500,000,000+ : 0.2707275803722504\n",
      "1,000,000,000+ : 0.2256063169768754\n",
      "0+ : 0.04512126339537507\n",
      "0 : 0.011280315848843767\n"
     ]
    }
   ],
   "source": [
    "display_table(android_final, 5)"
   ]
  },
  {
   "cell_type": "markdown",
   "metadata": {},
   "source": [
    "We can see that the installs count is not an absolute number but a string which gives us a rough idea like 50+ or 1000+. As we are looking to analyze popularity by CATEGORY we do not need exact numbers so this estimate is good for our analysis. We process this strings to remove ',' and '+' characters."
   ]
  },
  {
   "cell_type": "code",
   "execution_count": 91,
   "metadata": {},
   "outputs": [
    {
     "data": {
      "text/plain": [
       "{'10,000+': 10.197405527354766,\n",
       " '5,000,000+': 6.824591088550479,\n",
       " '50,000,000+': 2.3011844331641287,\n",
       " '100,000+': 11.551043429216017,\n",
       " '50,000+': 4.771573604060913,\n",
       " '1,000,000+': 15.724760293288211,\n",
       " '10,000,000+': 10.547095318668923,\n",
       " '5,000+': 4.512126339537507,\n",
       " '500,000+': 5.561195713479977,\n",
       " '1,000,000,000+': 0.2256063169768754,\n",
       " '100,000,000+': 2.131979695431472,\n",
       " '1,000+': 8.403835307388608,\n",
       " '500,000,000+': 0.2707275803722504,\n",
       " '500+': 3.248730964467005,\n",
       " '100+': 6.91483361534123,\n",
       " '50+': 1.9176536943034406,\n",
       " '10+': 3.542019176536943,\n",
       " '1+': 0.5076142131979695,\n",
       " '5+': 0.7896221094190639,\n",
       " '0+': 0.04512126339537507,\n",
       " '0': 0.011280315848843767}"
      ]
     },
     "execution_count": 91,
     "metadata": {},
     "output_type": "execute_result"
    }
   ],
   "source": [
    "category_android_ft = freq_table(android_final, 5)\n"
   ]
  },
  {
   "cell_type": "code",
   "execution_count": null,
   "metadata": {},
   "outputs": [],
   "source": []
  }
 ],
 "metadata": {
  "kernelspec": {
   "display_name": "Python 3",
   "language": "python",
   "name": "python3"
  },
  "language_info": {
   "codemirror_mode": {
    "name": "ipython",
    "version": 3
   },
   "file_extension": ".py",
   "mimetype": "text/x-python",
   "name": "python",
   "nbconvert_exporter": "python",
   "pygments_lexer": "ipython3",
   "version": "3.7.6"
  }
 },
 "nbformat": 4,
 "nbformat_minor": 4
}
